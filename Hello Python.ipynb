{
 "cells": [
  {
   "cell_type": "code",
   "execution_count": 49,
   "metadata": {},
   "outputs": [
    {
     "name": "stdout",
     "output_type": "stream",
     "text": [
      "------------------------------------------\n",
      "List --> ['a', 'b', 'c']\n",
      "------------------------------------------\n",
      "Joining the items of a list abc\n",
      "------------------------------------------\n",
      "Joining the items of a list\n",
      "a\n",
      "b\n",
      "c\n",
      "------------------------------------------\n"
     ]
    }
   ],
   "source": [
    "print (\"------------------------------------------\")\n",
    "# Join elements in a list to a string\n",
    "mylist = [\"a\",\"b\",\"c\"]\n",
    "print (\"List -->\",mylist)\n",
    "print (\"------------------------------------------\")\n",
    "s = \"\".join(mylist)\n",
    "print (\"Joining the items of a list\",s)\n",
    "print (\"------------------------------------------\")\n",
    "t = \"\\n\".join(mylist)\n",
    "print (\"Joining the items of a list\")\n",
    "print (t)\n",
    "print (\"------------------------------------------\")"
   ]
  },
  {
   "cell_type": "code",
   "execution_count": 47,
   "metadata": {},
   "outputs": [
    {
     "name": "stdout",
     "output_type": "stream",
     "text": [
      "String             s          ---> hello world\n",
      "Reverse String     s[::-1]    ---> dlrow olleh\n",
      "Read from 2 to 4   s[2:4]     ---> ll\n",
      "Pickup one by one  s[::2]     ---> hlowrd\n",
      "Last Item          s[-1]      ---> d\n",
      "Start to End       s[3:]      ---> lo world\n",
      "Start to End pt    s[3::2]    ---> l ol\n",
      "Everthing till pt  s[:4]      ---> hell\n",
      "Everthing till pt  s[:4:2]    ---> hl\n"
     ]
    }
   ],
   "source": [
    "### String Operations\n",
    "s = \"hello world\"\n",
    "print (\"String             s          --->\",s)\n",
    "print (\"Reverse String     s[::-1]    --->\",s[::-1])\n",
    "print (\"Read from 2 to 4   s[2:4]     --->\",s[2:4])\n",
    "print (\"Pickup one by one  s[::2]     --->\",s[::2])\n",
    "print (\"Last Item          s[-1]      --->\",s[-1])\n",
    "print (\"Start to End       s[3:]      --->\",s[3:])\n",
    "print (\"Start to End pt    s[3::2]    --->\",s[3::2])\n",
    "print (\"Everthing till pt  s[:4]      --->\",s[:4])\n",
    "print (\"Everthing till pt  s[:4:2]    --->\",s[:4:2])\n",
    "\n",
    "\n",
    "###"
   ]
  },
  {
   "cell_type": "code",
   "execution_count": 48,
   "metadata": {},
   "outputs": [
    {
     "name": "stdout",
     "output_type": "stream",
     "text": [
      "6 is an integer\n",
      "------------------------------------------\n",
      "[1, 2, 3, 4, 5] is not an integer\n",
      "[1, 2, 3, 4, 5] is a list\n",
      "------------------------------------------\n"
     ]
    }
   ],
   "source": [
    "# Is instance\n",
    "num  = 6\n",
    "if (isinstance(num,int)):\n",
    "    print (num,\"is an integer\")\n",
    "print (\"------------------------------------------\")\n",
    "# List\n",
    "mylist = [1,2,3,4,5]\n",
    "if (not isinstance(mylist,int)):\n",
    "    print (mylist,\"is not an integer\")\n",
    "if (isinstance(mylist,list)):\n",
    "    print (mylist,\"is a list\")\n",
    "print (\"------------------------------------------\")\n"
   ]
  }
 ],
 "metadata": {
  "kernelspec": {
   "display_name": "Python 3",
   "language": "python",
   "name": "python3"
  },
  "language_info": {
   "codemirror_mode": {
    "name": "ipython",
    "version": 3
   },
   "file_extension": ".py",
   "mimetype": "text/x-python",
   "name": "python",
   "nbconvert_exporter": "python",
   "pygments_lexer": "ipython3",
   "version": "3.6.3"
  }
 },
 "nbformat": 4,
 "nbformat_minor": 1
}
